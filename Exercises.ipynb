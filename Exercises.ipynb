{
 "cells": [
  {
   "cell_type": "markdown",
   "metadata": {},
   "source": [
    "#### Exercise 1 - Class Inheritance"
   ]
  },
  {
   "cell_type": "markdown",
   "metadata": {},
   "source": [
    "Create an Employee class that sets an employee's first name, last name, job title, salary, and email. The Employee class should have a class attribute for the raise amount set to 5% (1.05). Create a method that will apply the raise to an employee's salary."
   ]
  },
  {
   "cell_type": "code",
   "execution_count": 2,
   "metadata": {},
   "outputs": [],
   "source": [
    "class Employee:\n",
    "    raise_amount = 1.05\n",
    "    \n",
    "    def __init__(self, first, last, job_title, salary):\n",
    "        self.first = first.title()\n",
    "        self.last = last.title()\n",
    "        self.job_title = job_title.title()\n",
    "        self.salary = salary\n",
    "        self.email = first.lower() + '.' + last.lower() + '@company.org'\n",
    "        \n",
    "    def apply_raise(self):\n",
    "        self.salary = int(self.salary * Employee.raise_amount)\n",
    "        \n",
    "        \n",
    "emp_1 = Employee('david', 'dockerson', 'dentist', 90000)\n",
    "\n",
    "# print(emp_1.email)\n",
    "# print(emp_1.salary)\n",
    "# emp_1.apply_raise()\n",
    "# print(emp_1.salary)\n",
    "\n",
    "\n"
   ]
  },
  {
   "cell_type": "markdown",
   "metadata": {},
   "source": [
    "Create two more classes that inherit from the Employee class. One for Sales and one for Development. Both of these classes will have the same attributes as the Employee.<br>\n",
    "- For the Sales employees, add a phone number attribute on instantiation using the super method. \n",
    "- Create a method on the Sales class that will Send a Follow Up Email. It should take in a customer name and \"send\" aka print a formatted email \"Dear *customer*, Thank you for your interest in our product. Please let me know if you have any questions. My email is *email* or my phone number is *phone number*. Thanks, *full name*\"\n",
    "- Create a method on the Development class called code that will print out \"*full name* is writing code\"."
   ]
  },
  {
   "cell_type": "code",
   "execution_count": 11,
   "metadata": {},
   "outputs": [
    {
     "name": "stdout",
     "output_type": "stream",
     "text": [
      "222-333-4444\n",
      "sally.sallerson@company.org\n",
      "jimmy.thompson@company.org\n",
      "<bound method Sales.send_email of <__main__.Sales object at 0x0000015BB95737F0>>\n"
     ]
    }
   ],
   "source": [
    "#super() on __init__\n",
    "#take customer name as arguement and print dear {customer} \n",
    "\n",
    "class Sales(Employee):\n",
    "    def __init__(self, first, last, job_title, salary, phone, cust_name = \"Empty\"):\n",
    "        super().__init__(first, last, job_title, salary)\n",
    "        self.phone = phone\n",
    "        self.cust_name = cust_name\n",
    "        \n",
    "        \n",
    "    def send_email(self, cust_name):\n",
    "        \n",
    "        return f\"Dear {cust_name.title()}, Thank you for your interest in our product. Please let me know if you have any questions. My email is {self.email} or my phone number is {self.phone}. Thanks, {self.first} {self.last}\"\n",
    "\n",
    "class Development(Employee):\n",
    "    def __init__(self, first, last, job_title, salary):\n",
    "        super().__init__(first, last, job_title, salary)\n",
    "        \n",
    "    def code(self):\n",
    "        return f\"{self.first} {self.last} is writing code.\"\n",
    "\n",
    "# emp_1 = Employee('david', 'dockerson', 'dentist', 90000)\n",
    "sales1 = Sales('sally','sallerson', 'sales', 95000, \"222-333-4444\")\n",
    "dev1 = Development('jimmy', 'thompson', 'developer', 100000)\n",
    "print(sales1.phone)\n",
    "print(sales1.email)\n",
    "print(dev1.email)\n",
    "sales1.send_email\n",
    "print(sales1.send_email)\n",
    "\n",
    "\n",
    "\n",
    "\n",
    "\n",
    "\n"
   ]
  },
  {
   "cell_type": "markdown",
   "metadata": {},
   "source": [
    "- Create an instance of a Sales Employee with a salary of $50,000.\n",
    "- Send follow up emails to \"Mike O'Neil\" and \"Hannah Stern\"\n",
    "- Give the employee a raise and print the salary"
   ]
  },
  {
   "cell_type": "code",
   "execution_count": 13,
   "metadata": {},
   "outputs": [
    {
     "name": "stdout",
     "output_type": "stream",
     "text": [
      "50000\n",
      "Dear Mike O'Neil, Thank you for your interest in our product. Please let me know if you have any questions. My email is sally.sallerson@company.org or my phone number is 222-333-4444. Thanks, Sally Sallerson\n",
      "Dear Hannah Stern, Thank you for your interest in our product. Please let me know if you have any questions. My email is holly.hendricks@company.org or my phone number is 111-333-4444. Thanks, Holly Hendricks\n",
      "52500\n"
     ]
    }
   ],
   "source": [
    "sales2 = Sales('holly','hendricks', 'sales', 50000, \"111-333-4444\", )\n",
    "print(sales2.salary)\n",
    "\n",
    "print(sales1.send_email(\"Mike O'Neil\"))\n",
    "print(sales2.send_email(\"Hannah Stern\"))\n",
    "\n",
    "sales2.apply_raise()\n",
    "print(sales2.salary)"
   ]
  },
  {
   "cell_type": "markdown",
   "metadata": {},
   "source": [
    "- Create an instance of a Development Employee with a salary of $100,000\n",
    "- Write some code with this employee\n",
    "- Give the employee a raise and print the salary"
   ]
  },
  {
   "cell_type": "code",
   "execution_count": 22,
   "metadata": {},
   "outputs": [
    {
     "name": "stdout",
     "output_type": "stream",
     "text": [
      "sampson.summers@company.org\n"
     ]
    }
   ],
   "source": [
    "dev2 = Development('sampson', 'summers', 'developer', 100000)\n",
    "print(dev2.email)\n",
    "\n",
    "##stuck on getting code to print out, will revist"
   ]
  },
  {
   "cell_type": "markdown",
   "metadata": {},
   "source": [
    "#### Exercise 2 - Importing Modules"
   ]
  },
  {
   "cell_type": "markdown",
   "metadata": {},
   "source": [
    "In VS Code, create a module titled `geometry` and add two functions in there. One that will calculate the area of a circle given a radius. The second will find the hypotenuse of a right angle given the two sides. Import the module or the functions from the module and use it to find the answers to the below questions"
   ]
  },
  {
   "cell_type": "markdown",
   "metadata": {},
   "source": [
    "What is the area of a circle with a radius of 7cm?"
   ]
  },
  {
   "cell_type": "code",
   "execution_count": 24,
   "metadata": {},
   "outputs": [
    {
     "name": "stdout",
     "output_type": "stream",
     "text": [
      "153.93804002589985\n"
     ]
    }
   ],
   "source": [
    "from geometry_module import math\n",
    "from math import pi\n",
    "\n",
    "print(pi*7**2)"
   ]
  },
  {
   "cell_type": "markdown",
   "metadata": {},
   "source": [
    "What is the hypotenuse of a right angle with sides of 3in and 4in?"
   ]
  },
  {
   "cell_type": "code",
   "execution_count": 23,
   "metadata": {},
   "outputs": [
    {
     "name": "stdout",
     "output_type": "stream",
     "text": [
      "Here is your string Hello World\n",
      "5.0\n"
     ]
    }
   ],
   "source": [
    "# from geometry_module import math\n",
    "# hypot(3, 4)\n",
    "\n",
    "from geometry_module import printer\n",
    "\n",
    "from geometry_module import math\n",
    "\n",
    "from math import hypot\n",
    "\n",
    "# print(printer('Hello World'))\n",
    "print(hypot(3,4))"
   ]
  },
  {
   "cell_type": "code",
   "execution_count": null,
   "metadata": {},
   "outputs": [],
   "source": []
  },
  {
   "cell_type": "code",
   "execution_count": null,
   "metadata": {},
   "outputs": [],
   "source": []
  }
 ],
 "metadata": {
  "kernelspec": {
   "display_name": "Python 3 (ipykernel)",
   "language": "python",
   "name": "python3"
  },
  "language_info": {
   "codemirror_mode": {
    "name": "ipython",
    "version": 3
   },
   "file_extension": ".py",
   "mimetype": "text/x-python",
   "name": "python",
   "nbconvert_exporter": "python",
   "pygments_lexer": "ipython3",
   "version": "3.9.7"
  }
 },
 "nbformat": 4,
 "nbformat_minor": 4
}
